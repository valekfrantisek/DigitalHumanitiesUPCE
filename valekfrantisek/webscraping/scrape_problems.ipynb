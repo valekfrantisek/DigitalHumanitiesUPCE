{
 "cells": [
  {
   "cell_type": "code",
   "execution_count": 1,
   "metadata": {},
   "outputs": [],
   "source": [
    "import requests\n",
    "import os"
   ]
  },
  {
   "cell_type": "code",
   "execution_count": null,
   "metadata": {},
   "outputs": [],
   "source": [
    "for i in range(1,51):\n",
    "    url = f'https://books.toscrape.com/catalogue/page-{i}.html'\n",
    "page = requests.get(url)\n",
    "text = page.text"
   ]
  },
  {
   "cell_type": "code",
   "execution_count": null,
   "metadata": {},
   "outputs": [],
   "source": [
    "\"\"\" jiné řešení, ale stále problém \"\"\"\n",
    "\n",
    "import requests\n",
    "import os\n",
    "import time\n",
    "from bs4 import BeautifulSoup\n",
    "from urllib.parse import urljoin\n",
    "\n",
    "\n",
    "def download_images(url, output_folder='book_images'):\n",
    "    response = requests.get(url)\n",
    "\n",
    "    if response.status_code == 200:\n",
    "    \n",
    "        os.makedirs(output_folder, exist_ok=True)\n",
    "        output_folder = 'C:\\Users\\ondra\\dokumenty\\WebScrape'\n",
    "        soup = BeautifulSoup(response.text, 'html.parser')\n",
    "        \n",
    "        image_tags = soup.find_all('img')\n",
    "        for index, img_tag in enumerate(image_tags):\n",
    "            image_url = urljoin(url, img_tag['src'])\n",
    "            image_response = requests.get(image_url)\n",
    "\n",
    "            if image_response.status_code == 200:\n",
    "                with open(os.path.join(output_folder, f\"image_{index + 1}.jpg\"), 'wb') as img_file:\n",
    "                    img_file.write(image_response.content)\n",
    "                print(f\"Image {index + 1} downloaded successfully.\")\n",
    "            else:\n",
    "                print(f\"Failed to download image {index + 1}. Status code:\", image_response.status_code)\n",
    "\n",
    "    else:\n",
    "        print(\"Failed to retrieve the web page. Status code:\", response.status_code)\n",
    "\n",
    "download_images('https://books.toscrape.com/')"
   ]
  }
 ],
 "metadata": {
  "kernelspec": {
   "display_name": "Python 3",
   "language": "python",
   "name": "python3"
  },
  "language_info": {
   "codemirror_mode": {
    "name": "ipython",
    "version": 3
   },
   "file_extension": ".py",
   "mimetype": "text/x-python",
   "name": "python",
   "nbconvert_exporter": "python",
   "pygments_lexer": "ipython3",
   "version": "3.11.5"
  }
 },
 "nbformat": 4,
 "nbformat_minor": 2
}
