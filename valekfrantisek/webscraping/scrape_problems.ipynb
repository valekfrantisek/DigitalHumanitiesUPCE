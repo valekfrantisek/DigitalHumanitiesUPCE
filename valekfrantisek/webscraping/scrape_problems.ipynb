{
 "cells": [
  {
   "cell_type": "code",
   "execution_count": 1,
   "metadata": {},
   "outputs": [],
   "source": [
    "import requests\n",
    "import os"
   ]
  },
  {
   "cell_type": "code",
   "execution_count": 3,
   "metadata": {},
   "outputs": [
    {
     "name": "stdout",
     "output_type": "stream",
     "text": [
      "https://books.toscrape.com/catalogue/page-1.html\n",
      "https://books.toscrape.com/catalogue/page-2.html\n",
      "https://books.toscrape.com/catalogue/page-3.html\n",
      "https://books.toscrape.com/catalogue/page-4.html\n",
      "https://books.toscrape.com/catalogue/page-5.html\n",
      "https://books.toscrape.com/catalogue/page-6.html\n",
      "https://books.toscrape.com/catalogue/page-7.html\n",
      "https://books.toscrape.com/catalogue/page-8.html\n",
      "https://books.toscrape.com/catalogue/page-9.html\n",
      "https://books.toscrape.com/catalogue/page-10.html\n",
      "https://books.toscrape.com/catalogue/page-11.html\n",
      "https://books.toscrape.com/catalogue/page-12.html\n",
      "https://books.toscrape.com/catalogue/page-13.html\n",
      "https://books.toscrape.com/catalogue/page-14.html\n",
      "https://books.toscrape.com/catalogue/page-15.html\n",
      "https://books.toscrape.com/catalogue/page-16.html\n",
      "https://books.toscrape.com/catalogue/page-17.html\n",
      "https://books.toscrape.com/catalogue/page-18.html\n",
      "https://books.toscrape.com/catalogue/page-19.html\n",
      "https://books.toscrape.com/catalogue/page-20.html\n",
      "https://books.toscrape.com/catalogue/page-21.html\n",
      "https://books.toscrape.com/catalogue/page-22.html\n",
      "https://books.toscrape.com/catalogue/page-23.html\n",
      "https://books.toscrape.com/catalogue/page-24.html\n",
      "https://books.toscrape.com/catalogue/page-25.html\n",
      "https://books.toscrape.com/catalogue/page-26.html\n",
      "https://books.toscrape.com/catalogue/page-27.html\n",
      "https://books.toscrape.com/catalogue/page-28.html\n",
      "https://books.toscrape.com/catalogue/page-29.html\n",
      "https://books.toscrape.com/catalogue/page-30.html\n",
      "https://books.toscrape.com/catalogue/page-31.html\n",
      "https://books.toscrape.com/catalogue/page-32.html\n",
      "https://books.toscrape.com/catalogue/page-33.html\n",
      "https://books.toscrape.com/catalogue/page-34.html\n",
      "https://books.toscrape.com/catalogue/page-35.html\n",
      "https://books.toscrape.com/catalogue/page-36.html\n",
      "https://books.toscrape.com/catalogue/page-37.html\n",
      "https://books.toscrape.com/catalogue/page-38.html\n",
      "https://books.toscrape.com/catalogue/page-39.html\n",
      "https://books.toscrape.com/catalogue/page-40.html\n",
      "https://books.toscrape.com/catalogue/page-41.html\n",
      "https://books.toscrape.com/catalogue/page-42.html\n",
      "https://books.toscrape.com/catalogue/page-43.html\n",
      "https://books.toscrape.com/catalogue/page-44.html\n",
      "https://books.toscrape.com/catalogue/page-45.html\n",
      "https://books.toscrape.com/catalogue/page-46.html\n",
      "https://books.toscrape.com/catalogue/page-47.html\n",
      "https://books.toscrape.com/catalogue/page-48.html\n",
      "https://books.toscrape.com/catalogue/page-49.html\n",
      "https://books.toscrape.com/catalogue/page-50.html\n"
     ]
    }
   ],
   "source": [
    "for i in range(1,51):\n",
    "    url = f'https://books.toscrape.com/catalogue/page-{i}.html'\n",
    "\n",
    "print(url)"
   ]
  },
  {
   "cell_type": "code",
   "execution_count": 1,
   "metadata": {},
   "outputs": [
    {
     "name": "stdout",
     "output_type": "stream",
     "text": [
      "Image 1 downloaded successfully.\n",
      "Image 2 downloaded successfully.\n",
      "Image 3 downloaded successfully.\n",
      "Image 4 downloaded successfully.\n",
      "Image 5 downloaded successfully.\n",
      "Image 6 downloaded successfully.\n",
      "Image 7 downloaded successfully.\n",
      "Image 8 downloaded successfully.\n",
      "Image 9 downloaded successfully.\n",
      "Image 10 downloaded successfully.\n",
      "Image 11 downloaded successfully.\n",
      "Image 12 downloaded successfully.\n",
      "Image 13 downloaded successfully.\n",
      "Image 14 downloaded successfully.\n",
      "Image 15 downloaded successfully.\n",
      "Image 16 downloaded successfully.\n",
      "Image 17 downloaded successfully.\n",
      "Image 18 downloaded successfully.\n",
      "Image 19 downloaded successfully.\n",
      "Image 20 downloaded successfully.\n"
     ]
    }
   ],
   "source": [
    "\"\"\" jiné řešení, ale stále problém \"\"\"\n",
    "\n",
    "import requests\n",
    "import os\n",
    "import time\n",
    "from bs4 import BeautifulSoup\n",
    "from urllib.parse import urljoin\n",
    "\n",
    "\n",
    "def download_images(url, output_folder='book_images'):\n",
    "    response = requests.get(url)\n",
    "\n",
    "    if response.status_code == 200:\n",
    "    \n",
    "        os.makedirs(output_folder, exist_ok=True)\n",
    "        output_folder = 'C:/Users/valek/Downloads'\n",
    "        soup = BeautifulSoup(response.text, 'html.parser')\n",
    "        \n",
    "        image_tags = soup.find_all('img')\n",
    "        for index, img_tag in enumerate(image_tags):\n",
    "            image_url = urljoin(url, img_tag['src'])\n",
    "            image_response = requests.get(image_url)\n",
    "\n",
    "            if image_response.status_code == 200:\n",
    "                with open(os.path.join(output_folder, f\"image_{index + 1}.jpg\"), 'wb') as img_file:\n",
    "                    img_file.write(image_response.content)\n",
    "                print(f\"Image {index + 1} downloaded successfully.\")\n",
    "            else:\n",
    "                print(f\"Failed to download image {index + 1}. Status code:\", image_response.status_code)\n",
    "\n",
    "    else:\n",
    "        print(\"Failed to retrieve the web page. Status code:\", response.status_code)\n",
    "\n",
    "download_images('https://books.toscrape.com/')"
   ]
  },
  {
   "cell_type": "code",
   "execution_count": 1,
   "metadata": {},
   "outputs": [
    {
     "name": "stdout",
     "output_type": "stream",
     "text": [
      "Urls and names retrieved.\n",
      "A Light in the Attic\n",
      "\t A Light in the Attic downloaded\n",
      "Tipping the Velvet\n",
      "\t Tipping the Velvet downloaded\n",
      "Soumission\n",
      "\t Soumission downloaded\n",
      "Sharp Objects\n",
      "\t Sharp Objects downloaded\n",
      "Sapiens: A Brief History of Humankind\n",
      "\t Sapiens: A Brief History of Humankind downloaded\n",
      "The Requiem Red\n",
      "\t The Requiem Red downloaded\n",
      "The Dirty Little Secrets of Getting Your Dream Job\n",
      "\t The Dirty Little Secrets of Getting Your Dream Job downloaded\n",
      "The Coming Woman: A Novel Based on the Life of the Infamous Feminist, Victoria Woodhull\n",
      "\t The Coming Woman: A Novel Based on the Life of the Infamous Feminist, Victoria Woodhull downloaded\n",
      "The Boys in the Boat: Nine Americans and Their Epic Quest for Gold at the 1936 Berlin Olympics\n",
      "\t The Boys in the Boat: Nine Americans and Their Epic Quest for Gold at the 1936 Berlin Olympics downloaded\n",
      "The Black Maria\n",
      "\t The Black Maria downloaded\n",
      "Starving Hearts (Triangular Trade Trilogy, #1)\n",
      "\t Starving Hearts (Triangular Trade Trilogy, #1) downloaded\n",
      "Shakespeare's Sonnets\n",
      "\t Shakespeare's Sonnets downloaded\n",
      "Set Me Free\n",
      "\t Set Me Free downloaded\n",
      "Scott Pilgrim's Precious Little Life (Scott Pilgrim #1)\n",
      "\t Scott Pilgrim's Precious Little Life (Scott Pilgrim #1) downloaded\n",
      "Rip it Up and Start Again\n",
      "\t Rip it Up and Start Again downloaded\n",
      "Our Band Could Be Your Life: Scenes from the American Indie Underground, 1981-1991\n",
      "\t Our Band Could Be Your Life: Scenes from the American Indie Underground, 1981-1991 downloaded\n",
      "Olio\n",
      "\t Olio downloaded\n",
      "Mesaerion: The Best Science Fiction Stories 1800-1849\n",
      "\t Mesaerion: The Best Science Fiction Stories 1800-1849 downloaded\n",
      "Libertarianism for Beginners\n",
      "\t Libertarianism for Beginners downloaded\n",
      "It's Only the Himalayas\n",
      "\t It's Only the Himalayas downloaded\n",
      "Urls and names retrieved.\n",
      "In Her Wake\n",
      "\t In Her Wake downloaded\n",
      "How Music Works\n",
      "\t How Music Works downloaded\n",
      "Foolproof Preserving: A Guide to Small Batch Jams, Jellies, Pickles, Condiments, and More: A Foolproof Guide to Making Small Batch Jams, Jellies, Pickles, Condiments, and More\n"
     ]
    },
    {
     "ename": "OSError",
     "evalue": "[Errno 22] Invalid argument: 'C:/Users/valek/Downloads\\\\Foolproof Preserving: A Guide to Small Batch Jams, Jellies, Pickles, Condiments, and More: A Foolproof Guide to Making Small Batch Jams, Jellies, Pickles, Condiments, and More.jpg'",
     "output_type": "error",
     "traceback": [
      "\u001b[1;31m---------------------------------------------------------------------------\u001b[0m",
      "\u001b[1;31mOSError\u001b[0m                                   Traceback (most recent call last)",
      "\u001b[1;32mc:\\Users\\valek\\OneDrive - Univerzita Pardubice\\Religionistika UPCE\\Moje_predmety\\ZS 2023-2024\\Digital Humanities\\BHD-GIT\\DigitalHumanitiesUPCE\\valekfrantisek\\webscraping\\scrape_problems.ipynb Cell 4\u001b[0m line \u001b[0;36m6\n\u001b[0;32m     <a href='vscode-notebook-cell:/c%3A/Users/valek/OneDrive%20-%20Univerzita%20Pardubice/Religionistika%20UPCE/Moje_predmety/ZS%202023-2024/Digital%20Humanities/BHD-GIT/DigitalHumanitiesUPCE/valekfrantisek/webscraping/scrape_problems.ipynb#W3sZmlsZQ%3D%3D?line=56'>57</a>\u001b[0m response \u001b[39m=\u001b[39m requests\u001b[39m.\u001b[39mget(url \u001b[39m+\u001b[39m img_url)\n\u001b[0;32m     <a href='vscode-notebook-cell:/c%3A/Users/valek/OneDrive%20-%20Univerzita%20Pardubice/Religionistika%20UPCE/Moje_predmety/ZS%202023-2024/Digital%20Humanities/BHD-GIT/DigitalHumanitiesUPCE/valekfrantisek/webscraping/scrape_problems.ipynb#W3sZmlsZQ%3D%3D?line=57'>58</a>\u001b[0m img_data \u001b[39m=\u001b[39m response\u001b[39m.\u001b[39mcontent\n\u001b[1;32m---> <a href='vscode-notebook-cell:/c%3A/Users/valek/OneDrive%20-%20Univerzita%20Pardubice/Religionistika%20UPCE/Moje_predmety/ZS%202023-2024/Digital%20Humanities/BHD-GIT/DigitalHumanitiesUPCE/valekfrantisek/webscraping/scrape_problems.ipynb#W3sZmlsZQ%3D%3D?line=59'>60</a>\u001b[0m download_image(img_data, img_name, path\u001b[39m=\u001b[39;49mSCRAPE_PATH)\n\u001b[0;32m     <a href='vscode-notebook-cell:/c%3A/Users/valek/OneDrive%20-%20Univerzita%20Pardubice/Religionistika%20UPCE/Moje_predmety/ZS%202023-2024/Digital%20Humanities/BHD-GIT/DigitalHumanitiesUPCE/valekfrantisek/webscraping/scrape_problems.ipynb#W3sZmlsZQ%3D%3D?line=60'>61</a>\u001b[0m time\u001b[39m.\u001b[39msleep(\u001b[39m1\u001b[39m)\n",
      "\u001b[1;32mc:\\Users\\valek\\OneDrive - Univerzita Pardubice\\Religionistika UPCE\\Moje_predmety\\ZS 2023-2024\\Digital Humanities\\BHD-GIT\\DigitalHumanitiesUPCE\\valekfrantisek\\webscraping\\scrape_problems.ipynb Cell 4\u001b[0m line \u001b[0;36m3\n\u001b[0;32m     <a href='vscode-notebook-cell:/c%3A/Users/valek/OneDrive%20-%20Univerzita%20Pardubice/Religionistika%20UPCE/Moje_predmety/ZS%202023-2024/Digital%20Humanities/BHD-GIT/DigitalHumanitiesUPCE/valekfrantisek/webscraping/scrape_problems.ipynb#W3sZmlsZQ%3D%3D?line=37'>38</a>\u001b[0m \u001b[39mdef\u001b[39;00m \u001b[39mdownload_image\u001b[39m(img_data, img_name:\u001b[39mstr\u001b[39m, path:\u001b[39mstr\u001b[39m):\n\u001b[1;32m---> <a href='vscode-notebook-cell:/c%3A/Users/valek/OneDrive%20-%20Univerzita%20Pardubice/Religionistika%20UPCE/Moje_predmety/ZS%202023-2024/Digital%20Humanities/BHD-GIT/DigitalHumanitiesUPCE/valekfrantisek/webscraping/scrape_problems.ipynb#W3sZmlsZQ%3D%3D?line=38'>39</a>\u001b[0m     \u001b[39mwith\u001b[39;00m \u001b[39mopen\u001b[39;49m(os\u001b[39m.\u001b[39;49mpath\u001b[39m.\u001b[39;49mjoin(path, \u001b[39mf\u001b[39;49m\u001b[39m'\u001b[39;49m\u001b[39m{\u001b[39;49;00mimg_name\u001b[39m}\u001b[39;49;00m\u001b[39m.jpg\u001b[39;49m\u001b[39m'\u001b[39;49m), \u001b[39m'\u001b[39;49m\u001b[39mwb\u001b[39;49m\u001b[39m'\u001b[39;49m) \u001b[39mas\u001b[39;00m out:\n\u001b[0;32m     <a href='vscode-notebook-cell:/c%3A/Users/valek/OneDrive%20-%20Univerzita%20Pardubice/Religionistika%20UPCE/Moje_predmety/ZS%202023-2024/Digital%20Humanities/BHD-GIT/DigitalHumanitiesUPCE/valekfrantisek/webscraping/scrape_problems.ipynb#W3sZmlsZQ%3D%3D?line=39'>40</a>\u001b[0m             out\u001b[39m.\u001b[39mwrite(img_data)\n\u001b[0;32m     <a href='vscode-notebook-cell:/c%3A/Users/valek/OneDrive%20-%20Univerzita%20Pardubice/Religionistika%20UPCE/Moje_predmety/ZS%202023-2024/Digital%20Humanities/BHD-GIT/DigitalHumanitiesUPCE/valekfrantisek/webscraping/scrape_problems.ipynb#W3sZmlsZQ%3D%3D?line=40'>41</a>\u001b[0m             \u001b[39mprint\u001b[39m(\u001b[39m'\u001b[39m\u001b[39m\\t\u001b[39;00m\u001b[39m'\u001b[39m, img_name, \u001b[39m'\u001b[39m\u001b[39mdownloaded\u001b[39m\u001b[39m'\u001b[39m)\n",
      "File \u001b[1;32m~\\AppData\\Roaming\\Python\\Python312\\site-packages\\IPython\\core\\interactiveshell.py:308\u001b[0m, in \u001b[0;36m_modified_open\u001b[1;34m(file, *args, **kwargs)\u001b[0m\n\u001b[0;32m    301\u001b[0m \u001b[39mif\u001b[39;00m file \u001b[39min\u001b[39;00m {\u001b[39m0\u001b[39m, \u001b[39m1\u001b[39m, \u001b[39m2\u001b[39m}:\n\u001b[0;32m    302\u001b[0m     \u001b[39mraise\u001b[39;00m \u001b[39mValueError\u001b[39;00m(\n\u001b[0;32m    303\u001b[0m         \u001b[39mf\u001b[39m\u001b[39m\"\u001b[39m\u001b[39mIPython won\u001b[39m\u001b[39m'\u001b[39m\u001b[39mt let you open fd=\u001b[39m\u001b[39m{\u001b[39;00mfile\u001b[39m}\u001b[39;00m\u001b[39m by default \u001b[39m\u001b[39m\"\u001b[39m\n\u001b[0;32m    304\u001b[0m         \u001b[39m\"\u001b[39m\u001b[39mas it is likely to crash IPython. If you know what you are doing, \u001b[39m\u001b[39m\"\u001b[39m\n\u001b[0;32m    305\u001b[0m         \u001b[39m\"\u001b[39m\u001b[39myou can use builtins\u001b[39m\u001b[39m'\u001b[39m\u001b[39m open.\u001b[39m\u001b[39m\"\u001b[39m\n\u001b[0;32m    306\u001b[0m     )\n\u001b[1;32m--> 308\u001b[0m \u001b[39mreturn\u001b[39;00m io_open(file, \u001b[39m*\u001b[39;49margs, \u001b[39m*\u001b[39;49m\u001b[39m*\u001b[39;49mkwargs)\n",
      "\u001b[1;31mOSError\u001b[0m: [Errno 22] Invalid argument: 'C:/Users/valek/Downloads\\\\Foolproof Preserving: A Guide to Small Batch Jams, Jellies, Pickles, Condiments, and More: A Foolproof Guide to Making Small Batch Jams, Jellies, Pickles, Condiments, and More.jpg'"
     ]
    }
   ],
   "source": [
    "while '&#39;' in img_name:\n",
    "    img_name = img_name.replace('&#39;', \"'\")\n",
    "    print(img_name)"
   ]
  }
 ],
 "metadata": {
  "kernelspec": {
   "display_name": "Python 3",
   "language": "python",
   "name": "python3"
  },
  "language_info": {
   "codemirror_mode": {
    "name": "ipython",
    "version": 3
   },
   "file_extension": ".py",
   "mimetype": "text/x-python",
   "name": "python",
   "nbconvert_exporter": "python",
   "pygments_lexer": "ipython3",
   "version": "3.12.0"
  }
 },
 "nbformat": 4,
 "nbformat_minor": 2
}
